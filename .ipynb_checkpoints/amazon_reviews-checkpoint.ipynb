{
 "cells": [
  {
   "cell_type": "markdown",
   "id": "199b6c31",
   "metadata": {},
   "source": [
    "# Amazon Review Data\n",
    "\n",
    "Download [Amazon Review Data](https://s3.amazonaws.com/amazon-reviews-pds/readme.html) using the AWS CLI. For convenience, a sample dataset has been included in the data folder.\n",
    "\n",
    "```\n",
    "# list all datasets\n",
    "aws s3 ls s3://amazon-reviews-pds/tsv/\n",
    "\n",
    "# download the sample data\n",
    "aws s3 cp s3://amazon-reviews-pds/tsv/sample_us.csv .\n",
    "```"
   ]
  },
  {
   "cell_type": "raw",
   "id": "5e8b881a",
   "metadata": {},
   "source": [
    "!pip install bertopic"
   ]
  },
  {
   "cell_type": "code",
   "execution_count": 27,
   "id": "2c3338bb",
   "metadata": {},
   "outputs": [
    {
     "name": "stderr",
     "output_type": "stream",
     "text": [
      "[nltk_data] Downloading package stopwords to /root/nltk_data...\n",
      "[nltk_data]   Package stopwords is already up-to-date!\n"
     ]
    }
   ],
   "source": [
    "import nltk\n",
    "nltk.download('stopwords')\n",
    "import re\n",
    "from nltk.corpus import stopwords\n",
    "import pandas as pd\n",
    "\n",
    "review_data = pd.read_csv(\"data/sample_us.tsv\", sep='\\t')\n",
    "\n",
    "stop=stopwords.words('english')\n",
    "pat1=re.compile(r\"[^a-zA-Z ]+\")\n",
    "pat2=re.compile(r'\\b(?:{})\\b'.format('|'.join(stop)))\n",
    "review_body=review_data.review_body.astype(str).str.replace(pat1,\" \").str.replace(pat2,\" \").str.strip()"
   ]
  },
  {
   "cell_type": "code",
   "execution_count": 28,
   "id": "26763aab",
   "metadata": {},
   "outputs": [
    {
     "name": "stdout",
     "output_type": "stream",
     "text": [
      "Label prop iterations: 6\n",
      "Label prop iterations: 3\n",
      "Iterations: 2\n",
      "301,49,30,7,63,180\n",
      "CPU times: user 6.43 s, sys: 377 ms, total: 6.8 s\n",
      "Wall time: 375 ms\n"
     ]
    }
   ],
   "source": [
    "%%time\n",
    "from bertopic import BERTopic\n",
    "from cuml.cluster import HDBSCAN as HDBSCAN_gpu\n",
    "from cuml.manifold import UMAP as UMAP_gpu\n",
    "from sklearn.datasets import fetch_20newsgroups\n",
    "\n",
    "topic_model = BERTopic(hdbscan_model=HDBSCAN_gpu(), umap_model=UMAP_gpu())\n",
    "topics, probs = topic_model.fit_transform(review_body)"
   ]
  },
  {
   "cell_type": "code",
   "execution_count": 29,
   "id": "9d393bde",
   "metadata": {},
   "outputs": [
    {
     "data": {
      "text/html": [
       "<div>\n",
       "<style scoped>\n",
       "    .dataframe tbody tr th:only-of-type {\n",
       "        vertical-align: middle;\n",
       "    }\n",
       "\n",
       "    .dataframe tbody tr th {\n",
       "        vertical-align: top;\n",
       "    }\n",
       "\n",
       "    .dataframe thead th {\n",
       "        text-align: right;\n",
       "    }\n",
       "</style>\n",
       "<table border=\"1\" class=\"dataframe\">\n",
       "  <thead>\n",
       "    <tr style=\"text-align: right;\">\n",
       "      <th></th>\n",
       "      <th>Topic</th>\n",
       "      <th>Count</th>\n",
       "      <th>Name</th>\n",
       "    </tr>\n",
       "  </thead>\n",
       "  <tbody>\n",
       "    <tr>\n",
       "      <th>0</th>\n",
       "      <td>-1</td>\n",
       "      <td>31</td>\n",
       "      <td>-1_calendar_toys_the_really</td>\n",
       "    </tr>\n",
       "    <tr>\n",
       "      <th>1</th>\n",
       "      <td>0</td>\n",
       "      <td>13</td>\n",
       "      <td>0_the_of_yoga_same</td>\n",
       "    </tr>\n",
       "    <tr>\n",
       "      <th>2</th>\n",
       "      <td>1</td>\n",
       "      <td>5</td>\n",
       "      <td>1_lego_brand_generic_class</td>\n",
       "    </tr>\n",
       "  </tbody>\n",
       "</table>\n",
       "</div>"
      ],
      "text/plain": [
       "   Topic  Count                         Name\n",
       "0     -1     31  -1_calendar_toys_the_really\n",
       "1      0     13           0_the_of_yoga_same\n",
       "2      1      5   1_lego_brand_generic_class"
      ]
     },
     "execution_count": 29,
     "metadata": {},
     "output_type": "execute_result"
    }
   ],
   "source": [
    "topic_model.get_topic_info()"
   ]
  },
  {
   "cell_type": "code",
   "execution_count": 30,
   "id": "809c97df",
   "metadata": {},
   "outputs": [
    {
     "data": {
      "text/plain": [
       "[('the', 0.08574705315990165),\n",
       " ('of', 0.052810614640541965),\n",
       " ('yoga', 0.052810614640541965),\n",
       " ('same', 0.052810614640541965),\n",
       " ('track', 0.052810614640541965),\n",
       " ('play', 0.052810614640541965),\n",
       " ('battery', 0.052810614640541965),\n",
       " ('batteries', 0.052810614640541965),\n",
       " ('great', 0.04606789477712114),\n",
       " ('they', 0.044470440895415526)]"
      ]
     },
     "execution_count": 30,
     "metadata": {},
     "output_type": "execute_result"
    }
   ],
   "source": [
    "topic_model.get_topic(0)"
   ]
  },
  {
   "cell_type": "code",
   "execution_count": null,
   "id": "8d13117b",
   "metadata": {},
   "outputs": [],
   "source": []
  }
 ],
 "metadata": {
  "kernelspec": {
   "display_name": "Python 3 (ipykernel)",
   "language": "python",
   "name": "python3"
  },
  "language_info": {
   "codemirror_mode": {
    "name": "ipython",
    "version": 3
   },
   "file_extension": ".py",
   "mimetype": "text/x-python",
   "name": "python",
   "nbconvert_exporter": "python",
   "pygments_lexer": "ipython3",
   "version": "3.8.13"
  }
 },
 "nbformat": 4,
 "nbformat_minor": 5
}
