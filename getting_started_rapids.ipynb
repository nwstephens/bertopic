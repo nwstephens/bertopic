{
 "cells": [
  {
   "cell_type": "raw",
   "id": "1b01b935",
   "metadata": {},
   "source": [
    "!pip install bertopic"
   ]
  },
  {
   "cell_type": "code",
   "execution_count": 1,
   "id": "104b4730",
   "metadata": {},
   "outputs": [
    {
     "data": {
      "text/plain": [
       "'Many thanks to those who replied to my appeal for info on a drive I have\\nwhich is 3.5\" 600RPM!!\\n\\nI now have some information on how to modify this for use with a BBC B \\ncomputer. Not only do you have to change the speed from 600 to 300 rpm\\n(tried that) but also change 8 components in the Rec/Play section to allow\\nfor the lower data rate (250kbit, not 500kbit as it was designed for) and also\\nchange the Recording Current to allow for the low data rate/rev speed!\\n\\nHopefully this should sort it all out .... not bad for 9 quid (normally 32 \\nquid and upwards ....)\\n\\nThe drive is a JVC MDP series drive ...'"
      ]
     },
     "execution_count": 1,
     "metadata": {},
     "output_type": "execute_result"
    }
   ],
   "source": [
    "from sklearn.datasets import fetch_20newsgroups\n",
    "\n",
    "docs = fetch_20newsgroups(subset='all',  remove=('headers', 'footers', 'quotes'))['data']\n",
    "docs[16]"
   ]
  },
  {
   "cell_type": "code",
   "execution_count": 2,
   "id": "28549642",
   "metadata": {},
   "outputs": [
    {
     "name": "stdout",
     "output_type": "stream",
     "text": [
      "Label prop iterations: 23\n",
      "Label prop iterations: 12\n",
      "Label prop iterations: 7\n",
      "Label prop iterations: 5\n",
      "Label prop iterations: 4\n",
      "Label prop iterations: 3\n",
      "Label prop iterations: 2\n",
      "Iterations: 7\n",
      "1365,2498,1478,17,1111,11251\n",
      "CPU times: user 1min 38s, sys: 7.31 s, total: 1min 45s\n",
      "Wall time: 25.2 s\n"
     ]
    }
   ],
   "source": [
    "%%time\n",
    "from bertopic import BERTopic\n",
    "from cuml.cluster import HDBSCAN as HDBSCAN_gpu\n",
    "from cuml.manifold import UMAP as UMAP_gpu\n",
    "\n",
    "topic_model = BERTopic(hdbscan_model=HDBSCAN_gpu(), umap_model=UMAP_gpu())\n",
    "topics, probs = topic_model.fit_transform(docs)"
   ]
  },
  {
   "cell_type": "code",
   "execution_count": 3,
   "id": "3cf50da2",
   "metadata": {},
   "outputs": [
    {
     "data": {
      "text/html": [
       "<div>\n",
       "<style scoped>\n",
       "    .dataframe tbody tr th:only-of-type {\n",
       "        vertical-align: middle;\n",
       "    }\n",
       "\n",
       "    .dataframe tbody tr th {\n",
       "        vertical-align: top;\n",
       "    }\n",
       "\n",
       "    .dataframe thead th {\n",
       "        text-align: right;\n",
       "    }\n",
       "</style>\n",
       "<table border=\"1\" class=\"dataframe\">\n",
       "  <thead>\n",
       "    <tr style=\"text-align: right;\">\n",
       "      <th></th>\n",
       "      <th>Topic</th>\n",
       "      <th>Count</th>\n",
       "      <th>Name</th>\n",
       "    </tr>\n",
       "  </thead>\n",
       "  <tbody>\n",
       "    <tr>\n",
       "      <th>0</th>\n",
       "      <td>-1</td>\n",
       "      <td>7149</td>\n",
       "      <td>-1_to_the_that_it</td>\n",
       "    </tr>\n",
       "    <tr>\n",
       "      <th>1</th>\n",
       "      <td>0</td>\n",
       "      <td>1743</td>\n",
       "      <td>0_game_team_games_players</td>\n",
       "    </tr>\n",
       "    <tr>\n",
       "      <th>2</th>\n",
       "      <td>1</td>\n",
       "      <td>451</td>\n",
       "      <td>1_messages_console_devbwtwo1_hughminmoscouk</td>\n",
       "    </tr>\n",
       "    <tr>\n",
       "      <th>3</th>\n",
       "      <td>2</td>\n",
       "      <td>290</td>\n",
       "      <td>2_clipper_encryption_chip_key</td>\n",
       "    </tr>\n",
       "    <tr>\n",
       "      <th>4</th>\n",
       "      <td>3</td>\n",
       "      <td>157</td>\n",
       "      <td>3_god_belief_fallacy_atheism</td>\n",
       "    </tr>\n",
       "    <tr>\n",
       "      <th>...</th>\n",
       "      <td>...</td>\n",
       "      <td>...</td>\n",
       "      <td>...</td>\n",
       "    </tr>\n",
       "    <tr>\n",
       "      <th>642</th>\n",
       "      <td>641</td>\n",
       "      <td>5</td>\n",
       "      <td>641_buggy_jody_reader_generated</td>\n",
       "    </tr>\n",
       "    <tr>\n",
       "      <th>643</th>\n",
       "      <td>642</td>\n",
       "      <td>5</td>\n",
       "      <td>642_rand_1960s_education_poor</td>\n",
       "    </tr>\n",
       "    <tr>\n",
       "      <th>644</th>\n",
       "      <td>643</td>\n",
       "      <td>5</td>\n",
       "      <td>643_os221_1700k_modes_drivers</td>\n",
       "    </tr>\n",
       "    <tr>\n",
       "      <th>645</th>\n",
       "      <td>644</td>\n",
       "      <td>5</td>\n",
       "      <td>644_impulse_replies_cartridge_dcas</td>\n",
       "    </tr>\n",
       "    <tr>\n",
       "      <th>646</th>\n",
       "      <td>645</td>\n",
       "      <td>5</td>\n",
       "      <td>645_cd300_wd2340a_xt8670s_achievable</td>\n",
       "    </tr>\n",
       "  </tbody>\n",
       "</table>\n",
       "<p>647 rows × 3 columns</p>\n",
       "</div>"
      ],
      "text/plain": [
       "     Topic  Count                                         Name\n",
       "0       -1   7149                            -1_to_the_that_it\n",
       "1        0   1743                    0_game_team_games_players\n",
       "2        1    451  1_messages_console_devbwtwo1_hughminmoscouk\n",
       "3        2    290                2_clipper_encryption_chip_key\n",
       "4        3    157                 3_god_belief_fallacy_atheism\n",
       "..     ...    ...                                          ...\n",
       "642    641      5              641_buggy_jody_reader_generated\n",
       "643    642      5                642_rand_1960s_education_poor\n",
       "644    643      5                643_os221_1700k_modes_drivers\n",
       "645    644      5           644_impulse_replies_cartridge_dcas\n",
       "646    645      5         645_cd300_wd2340a_xt8670s_achievable\n",
       "\n",
       "[647 rows x 3 columns]"
      ]
     },
     "execution_count": 3,
     "metadata": {},
     "output_type": "execute_result"
    }
   ],
   "source": [
    "topic_model.get_topic_info()"
   ]
  },
  {
   "cell_type": "code",
   "execution_count": 4,
   "id": "deaf7e2d",
   "metadata": {},
   "outputs": [
    {
     "data": {
      "text/plain": [
       "[('game', 0.006449148612244194),\n",
       " ('team', 0.005725617946469451),\n",
       " ('games', 0.004678444174227384),\n",
       " ('players', 0.004389316982025231),\n",
       " ('season', 0.004378157069941398),\n",
       " ('hockey', 0.004246662788057654),\n",
       " ('play', 0.003850642740294706),\n",
       " ('league', 0.0035363563598727237),\n",
       " ('win', 0.0034569206734648915),\n",
       " ('teams', 0.0033154518118046193)]"
      ]
     },
     "execution_count": 4,
     "metadata": {},
     "output_type": "execute_result"
    }
   ],
   "source": [
    "topic_model.get_topic(0)"
   ]
  },
  {
   "cell_type": "code",
   "execution_count": null,
   "id": "c4b13b0c",
   "metadata": {},
   "outputs": [],
   "source": []
  }
 ],
 "metadata": {
  "kernelspec": {
   "display_name": "Python 3 (ipykernel)",
   "language": "python",
   "name": "python3"
  },
  "language_info": {
   "codemirror_mode": {
    "name": "ipython",
    "version": 3
   },
   "file_extension": ".py",
   "mimetype": "text/x-python",
   "name": "python",
   "nbconvert_exporter": "python",
   "pygments_lexer": "ipython3",
   "version": "3.8.13"
  }
 },
 "nbformat": 4,
 "nbformat_minor": 5
}
