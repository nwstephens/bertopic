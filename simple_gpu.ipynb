{
 "cells": [
  {
   "cell_type": "raw",
   "id": "2e769be8",
   "metadata": {},
   "source": [
    "!pip install bertopic"
   ]
  },
  {
   "cell_type": "code",
   "execution_count": 7,
   "id": "d3e0167f",
   "metadata": {},
   "outputs": [
    {
     "name": "stdout",
     "output_type": "stream",
     "text": [
      "Label prop iterations: 26\n",
      "Label prop iterations: 10\n",
      "Label prop iterations: 8\n",
      "Label prop iterations: 5\n",
      "Label prop iterations: 4\n",
      "Label prop iterations: 3\n",
      "Label prop iterations: 2\n",
      "Iterations: 7\n",
      "580,140,255,17,267,1075\n",
      "Label prop iterations: 2\n",
      "Iterations: 1\n",
      "258,50,55,9,46,72\n",
      "CPU times: user 1min 16s, sys: 9.12 s, total: 1min 26s\n",
      "Wall time: 23.9 s\n"
     ]
    }
   ],
   "source": [
    "%%time\n",
    "from bertopic import BERTopic\n",
    "from cuml.cluster import HDBSCAN as HDBSCAN_gpu\n",
    "from cuml.manifold import UMAP as UMAP_gpu\n",
    "from sklearn.datasets import fetch_20newsgroups\n",
    "\n",
    "docs = fetch_20newsgroups(subset='all',  remove=('headers', 'footers', 'quotes'))['data']\n",
    "\n",
    "topic_model = BERTopic(hdbscan_model=HDBSCAN_gpu(), umap_model=UMAP_gpu())\n",
    "topics, probs = topic_model.fit_transform(docs)"
   ]
  },
  {
   "cell_type": "code",
   "execution_count": 25,
   "id": "803d9055",
   "metadata": {},
   "outputs": [
    {
     "data": {
      "text/html": [
       "<div>\n",
       "<style scoped>\n",
       "    .dataframe tbody tr th:only-of-type {\n",
       "        vertical-align: middle;\n",
       "    }\n",
       "\n",
       "    .dataframe tbody tr th {\n",
       "        vertical-align: top;\n",
       "    }\n",
       "\n",
       "    .dataframe thead th {\n",
       "        text-align: right;\n",
       "    }\n",
       "</style>\n",
       "<table border=\"1\" class=\"dataframe\">\n",
       "  <thead>\n",
       "    <tr style=\"text-align: right;\">\n",
       "      <th></th>\n",
       "      <th>Topic</th>\n",
       "      <th>Count</th>\n",
       "      <th>Name</th>\n",
       "    </tr>\n",
       "  </thead>\n",
       "  <tbody>\n",
       "    <tr>\n",
       "      <th>0</th>\n",
       "      <td>-1</td>\n",
       "      <td>7233</td>\n",
       "      <td>-1_is_for_to_it</td>\n",
       "    </tr>\n",
       "    <tr>\n",
       "      <th>1</th>\n",
       "      <td>0</td>\n",
       "      <td>1605</td>\n",
       "      <td>0_game_team_games_players</td>\n",
       "    </tr>\n",
       "    <tr>\n",
       "      <th>2</th>\n",
       "      <td>1</td>\n",
       "      <td>451</td>\n",
       "      <td>1_threatens_women_intend_burglar</td>\n",
       "    </tr>\n",
       "    <tr>\n",
       "      <th>3</th>\n",
       "      <td>2</td>\n",
       "      <td>303</td>\n",
       "      <td>2_gun_guns_firearms_amendment</td>\n",
       "    </tr>\n",
       "    <tr>\n",
       "      <th>4</th>\n",
       "      <td>3</td>\n",
       "      <td>219</td>\n",
       "      <td>3_armenian_armenians_turkish_armenia</td>\n",
       "    </tr>\n",
       "    <tr>\n",
       "      <th>...</th>\n",
       "      <td>...</td>\n",
       "      <td>...</td>\n",
       "      <td>...</td>\n",
       "    </tr>\n",
       "    <tr>\n",
       "      <th>672</th>\n",
       "      <td>671</td>\n",
       "      <td>5</td>\n",
       "      <td>671_napa_lock_idaho_bartmichcwisisuedu</td>\n",
       "    </tr>\n",
       "    <tr>\n",
       "      <th>673</th>\n",
       "      <td>672</td>\n",
       "      <td>5</td>\n",
       "      <td>672_ec_truth_christianity_martial</td>\n",
       "    </tr>\n",
       "    <tr>\n",
       "      <th>674</th>\n",
       "      <td>673</td>\n",
       "      <td>5</td>\n",
       "      <td>673_alcoholic_arabamericans_deprived_game</td>\n",
       "    </tr>\n",
       "    <tr>\n",
       "      <th>675</th>\n",
       "      <td>674</td>\n",
       "      <td>5</td>\n",
       "      <td>674_fanaticsm_pilgrims_iran_insults</td>\n",
       "    </tr>\n",
       "    <tr>\n",
       "      <th>676</th>\n",
       "      <td>675</td>\n",
       "      <td>5</td>\n",
       "      <td>675_midi_sync_dimolex_soundblaster</td>\n",
       "    </tr>\n",
       "  </tbody>\n",
       "</table>\n",
       "<p>677 rows × 3 columns</p>\n",
       "</div>"
      ],
      "text/plain": [
       "     Topic  Count                                       Name\n",
       "0       -1   7233                            -1_is_for_to_it\n",
       "1        0   1605                  0_game_team_games_players\n",
       "2        1    451           1_threatens_women_intend_burglar\n",
       "3        2    303              2_gun_guns_firearms_amendment\n",
       "4        3    219       3_armenian_armenians_turkish_armenia\n",
       "..     ...    ...                                        ...\n",
       "672    671      5     671_napa_lock_idaho_bartmichcwisisuedu\n",
       "673    672      5          672_ec_truth_christianity_martial\n",
       "674    673      5  673_alcoholic_arabamericans_deprived_game\n",
       "675    674      5        674_fanaticsm_pilgrims_iran_insults\n",
       "676    675      5         675_midi_sync_dimolex_soundblaster\n",
       "\n",
       "[677 rows x 3 columns]"
      ]
     },
     "execution_count": 25,
     "metadata": {},
     "output_type": "execute_result"
    }
   ],
   "source": [
    "topic_model.get_topic_info()"
   ]
  }
 ],
 "metadata": {
  "kernelspec": {
   "display_name": "Python 3 (ipykernel)",
   "language": "python",
   "name": "python3"
  },
  "language_info": {
   "codemirror_mode": {
    "name": "ipython",
    "version": 3
   },
   "file_extension": ".py",
   "mimetype": "text/x-python",
   "name": "python",
   "nbconvert_exporter": "python",
   "pygments_lexer": "ipython3",
   "version": "3.8.13"
  }
 },
 "nbformat": 4,
 "nbformat_minor": 5
}
